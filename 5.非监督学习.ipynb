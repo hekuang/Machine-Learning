{
 "cells": [
  {
   "cell_type": "code",
   "execution_count": 1,
   "metadata": {},
   "outputs": [
    {
     "data": {
      "application/javascript": [
       "IPython.notebook.set_autosave_interval(3000)"
      ]
     },
     "metadata": {},
     "output_type": "display_data"
    },
    {
     "name": "stdout",
     "output_type": "stream",
     "text": [
      "Autosaving every 3 seconds\n"
     ]
    }
   ],
   "source": [
    "%autosave 3"
   ]
  },
  {
   "cell_type": "markdown",
   "metadata": {},
   "source": [
    "<a id='0'></a>\n",
    "### 　　目　录\n",
    "* [课程1.聚类](#1)\n",
    "\n",
    "\n",
    "\n",
    "* [课程2： 深度神经网络](#2)　　\n",
    "　\n",
    " \n",
    " \n",
    "* [课程 3：卷积神经网络](#3)　　\n",
    "\n",
    "\n",
    " \n",
    "* [课程 4：癌症检测深度学习（Sebastian Thrun）](#4)"
   ]
  },
  {
   "cell_type": "markdown",
   "metadata": {},
   "source": [
    "<a id='1'></a>\n",
    "# [1.聚类](#0)"
   ]
  },
  {
   "cell_type": "markdown",
   "metadata": {},
   "source": [
    "### 1.2.\n",
    "> dataset without labels all the data points are of same class\n",
    "* clusters in the data 数据的聚类（簇）\n",
    "* dimensionality reducetion 降维\n",
    "\n",
    "### 1.4\n",
    "> 聚类算法如：K-Means   \n",
    "\n",
    "重复执行1.2\n",
    "1.assign 分配\n",
    "2.optimize 优化 降低距离中心总的二次距离\n"
   ]
  }
 ],
 "metadata": {
  "kernelspec": {
   "display_name": "Python 3",
   "language": "python",
   "name": "python3"
  },
  "language_info": {
   "codemirror_mode": {
    "name": "ipython",
    "version": 3
   },
   "file_extension": ".py",
   "mimetype": "text/x-python",
   "name": "python",
   "nbconvert_exporter": "python",
   "pygments_lexer": "ipython3",
   "version": "3.6.4"
  }
 },
 "nbformat": 4,
 "nbformat_minor": 2
}
