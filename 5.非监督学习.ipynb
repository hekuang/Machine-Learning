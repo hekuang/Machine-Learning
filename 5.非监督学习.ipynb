{
 "cells": [
  {
   "cell_type": "code",
   "execution_count": null,
   "metadata": {
    "scrolled": true
   },
   "outputs": [],
   "source": [
    " "
   ]
  },
  {
   "cell_type": "markdown",
   "metadata": {},
   "source": [
    "<a id='0'></a>\n",
    "### 　　目　录\n",
    "* [课程1.聚类](#1)\n",
    "\n",
    "\n",
    "\n",
    "* [课程2： 层次聚类与密度聚类](#2)　　\n",
    "　\n",
    " \n",
    " \n",
    "* [课程 3：高斯混合模型与聚类验证](#3)　　\n",
    "\n",
    "\n",
    " \n",
    "* [课程 4：特征缩放](#4)\n",
    "\n",
    "\n",
    "* [课程 5： PCA（主成分分析)](#5)"
   ]
  },
  {
   "cell_type": "markdown",
   "metadata": {},
   "source": [
    "<a id='1'></a>\n",
    "# [1.聚类](#0)"
   ]
  },
  {
   "cell_type": "markdown",
   "metadata": {},
   "source": [
    "### 1.2.\n",
    "> dataset without labels all the data points are of same class\n",
    "* clusters in the data 数据的聚类（簇）\n",
    "* dimensionality reducetion 降维\n",
    "\n",
    "### 1.4\n",
    "> 聚类算法如：K-Means   \n",
    "\n",
    "重复执行1.2\n",
    "1.assign 分配\n",
    "2.optimize 优化 降低距离中心总的二次距离b\n"
   ]
  },
  {
   "cell_type": "markdown",
   "metadata": {},
   "source": [
    "<a id='2'></a>\n",
    "# [2. 层次聚类与密度聚类](#0)"
   ]
  },
  {
   "cell_type": "markdown",
   "metadata": {},
   "source": [
    "### 2.1.\n",
    "<img src = './img/K-means情况.png' width = '77%'>\n",
    "\n",
    "\n",
    "### 2.2.其他聚类方法\n",
    "* Hierarchical Clustering 层次聚类\n",
    "* Density_based Clustering 密度聚类 (well on the two-cresect dataset(双月牙形))\n",
    "   * 关注其中的DBSCAN(Density_based Spatial Clustering of Applications with Noise)\n",
    "<img src = \"./img/层次聚类and密度聚类.png\" width =\"88%\">\n",
    "\n",
    "### 2.3.层次聚类：单链接聚类法\n",
    " \n",
    "dendgrogram 系统树图\n",
    "<img src = \"./img/linkage_dendrogram.png\"    width=\"66%\">\n",
    "* single link clustering \n",
    "    * assume each point is a cluster\n",
    "    * calculate the distances and choose the smallest distance between two clusters. group those two points into a cluster\n",
    "**关注类的最短距离**    \n",
    "##### can give eithet one cluster or the number of our smaples     \n",
    "<img src = \"./img/single_link_clustering.png \" width = \"77%\">\n",
    "\n",
    "\n",
    "### 2.4. 检测单链接聚类\n",
    "\n",
    "\n",
    "<img src =\"./img/k_maeans_vs_single_linkA_clustering.png\"  width=\"77%\">\n",
    "\n",
    "### 2.5. 三种不同的层次聚类法\n",
    "> part of agglomerative clustering(凝聚聚类) component of Scikit-learn\n",
    "层次聚类包括凝聚聚类\n",
    "\n",
    "\n",
    "#### 凝聚聚类的三种方法\n",
    "> 没有单链接法\n",
    "\n",
    "*  **全连接法**   \n",
    " \n",
    "     **区别：关注类与类之间点的远距离中的最小值**\n",
    "\n",
    "* **组平均法（average link )**\n",
    "> 计算类之间点距离的平均值\n",
    "\n",
    "*  **Ward's metod(离差平方和法)**\n",
    "取类之间点的中间点，计算此点到所有点的距离平方和，然后减去类中的变量（类中取中点，计算与类中点的平方和）。\n",
    "最后将两类间最小的，聚类。\n",
    "<img src = \"./img/Ward's_method.png\" width='77%'>\n",
    "\n",
    "### 2.6. 层次聚类法的具体使用\n"
   ]
  },
  {
   "cell_type": "code",
   "execution_count": null,
   "metadata": {},
   "outputs": [],
   "source": [
    "from sklearn import datasets, cluster\n",
    "# Load dataset\n",
    "X = datasets.load_iris().data[:10]\n",
    "\n",
    "# linkage : {“ward”, “complete”, “average”}, optional, default: “ward”\n",
    "# n_clusters : int, default=2nThe number of clusters to find.\n",
    "clust = cluster.AgglomerativeClustering(n_clusters = 3, linkage = 'ward')\n",
    "\n",
    "labels = clust.fit_predict(X)"
   ]
  },
  {
   "cell_type": "markdown",
   "metadata": {},
   "source": [
    "如果要画出层次树（系统树）\n",
    "hierarchical tree shapes called dendrograms\n"
   ]
  },
  {
   "cell_type": "code",
   "execution_count": 15,
   "metadata": {
    "scrolled": true
   },
   "outputs": [
    {
     "data": {
      "image/png": "[encoded data removed]",
      "text/plain": [
       "<matplotlib.figure.Figure at 0x1715eab1668>"
      ]
     },
     "metadata": {},
     "output_type": "display_data"
    }
   ],
   "source": [
    "from scipy.cluster.hierarchy import dendrogram, ward, single\n",
    "from sklearn import datasets\n",
    "import matplotlib.pyplot as plt\n",
    "\n",
    "X = datasets.load_iris().data[:10]\n",
    "# 用ward做聚类，传回关系矩阵\n",
    "linkage_matrix = ward(X)\n",
    "dendrogram(linkage_matrix)\n",
    "plt.show()"
   ]
  },
  {
   "cell_type": "markdown",
   "metadata": {},
   "source": [
    "### 标准化对聚类的影响\n",
    "如iris数据，第四列比其他小，方差影响对聚类的处理。由此进行标准化操作，使每个维度位于（0，1）  \n",
    "方法：每列减去最小值，初一范围，利用sklearn提供的preprocessing.normalize()工具\n",
    "` normalized_X = preprocessing.normalize(iris.data) `\n"
   ]
  },
  {
   "cell_type": "markdown",
   "metadata": {},
   "source": [
    " ### 2.9 . HC 实例与应用\n",
    " **advantages**  \n",
    " * Resulting hierarchical represetation can be very informative\n",
    " * provides an additional ability to visualize\n",
    " * Especially potent when the dataset contains real hierarchical relationships(e.g. Evolutionary biology)  \n",
    " \n",
    "\n",
    " **disadvantages**  \n",
    " * Sensitive to noise and outliers(离散群）\n",
    " * Computationally inensive O(N^2)\n",
    " \n",
    " \n",
    "### 2.11. DBSCAN\n",
    "One of Density_based Clustering 密度聚类\n",
    "* Epsilon :Search distance around point\n",
    "* MinPts: Minimum number of points required to form a density cluster  \n",
    "==> Noise point(不符合的点)  \n",
    "==> Core point（符合的点）  \n",
    "==> Border poin（不符合的点，但是被某个core point包含进去的点）  \n",
    "\n",
    "\n",
    "<img src = \"./img/k_maeans_vs_DBSCAN.png\" width=\"77%\">"
   ]
  },
  {
   "cell_type": "code",
   "execution_count": 2,
   "metadata": {},
   "outputs": [
    {
     "data": {
      "text/plain": [
       "DBSCAN(algorithm='auto', eps=0.5, leaf_size=30, metric='euclidean',\n",
       "    metric_params=None, min_samples=5, n_jobs=1, p=None)"
      ]
     },
     "execution_count": 2,
     "metadata": {},
     "output_type": "execute_result"
    }
   ],
   "source": [
    "from sklearn import datasets, cluster\n",
    "X = datasets.load_iris().data\n",
    "\n",
    "db = cluster.DBSCAN(eps = 0.5, min_samples = 5)\n",
    "db.fit(X)\n"
   ]
  },
  {
   "cell_type": "markdown",
   "metadata": {},
   "source": [
    " ### 2.15 . DBSCAN 实例与应用\n",
    " **advantages**  \n",
    " * We don't need to specify the number of clusters\n",
    " * Flexibility in the shapes & sizes of clusters (能灵活的找到并分类各种形状和大小的类)\n",
    " * Able to deal with noise and ooutliers\n",
    "\n",
    " **disadvantages**  \n",
    " * Faces difficulty finding clusters of varying densities\n",
    " * Border points that are reachable from two clusers(随机访问, 所以能达到多个类的点,会被随机分配)\n",
    " "
   ]
  },
  {
   "cell_type": "markdown",
   "metadata": {},
   "source": [
    "<a id = '3'> </a>\n",
    "#  [3.高斯混合模型GMM与聚类验证](#0)　　\n"
   ]
  },
  {
   "cell_type": "markdown",
   "metadata": {},
   "source": [
    "Gaussian Mixture Model Clustering  is a soft clustering algorithm\n",
    "> means every point and every sample in our dataset will belong to every cluster that we hava   \n",
    "> but would hava different levels of membership in each cluster\n",
    "<img src = \"./img/GaussianMixtureModelClustering.png\" width = \"66%\">\n",
    "\n",
    "### 3.3. 一维高斯分布\n",
    "> 高斯混合分布本身并不是高斯模型,可能是多个高斯模型的组合\n",
    "\n",
    "### 3.4. 二维高斯分布\n",
    "**Multivariate Gaussian distribution**\n",
    "more variables ,and each of them is a Gaussian distribution\n",
    "\n",
    "### 3.8 期望最大化算法概述\n",
    "1.Initialize K gaussian distributions\n",
    "2.soft-cluster data-\"expectation\" called the Expectation step or the E step\n",
    "3.re-estimate the Gaussians based on the soft clustering  called Maximization or M step\n",
    "4.evluate log-likelihood to check for convergence 评估对数似然来检查收敛\n",
    "> 不收敛，跳到第二部继续执行\n",
    "\n",
    "### 3.9-10. 期望最大化\n",
    "1.Initialize gaussian distributions like use k-means\n",
    "\n",
    "2.step2\n",
    "<img src = \"./img/gaussian_step2.png\" width = \"88%\">\n",
    "\n",
    "3. step3\n",
    "<img src = \"./img/gaussian_step3-1.png\" width = \"88%\">\n",
    "<img src = \"./img/gaussian_step3-2.png\" width = \"88%\">\n",
    "\n",
    "4.evaluate the log-likelihood\n",
    "\n",
    "$$ ln p (X\\mid\\mu,\\sigma^2) = \\sum_{i=1}^{N}ln(\\sum_{k=1}^{K}\\pi_kN(X_i\\mid\\mu_k,\\sigma{_k^2})) $$\n",
    "\n",
    "the **higher** this number is ,the more sure we are that the mixer model that we've generated(越能确定生成的混合模型可以负责创建数据)\n",
    "\n",
    "### 3.11. 期望最大化示例\n",
    "Initialization：Default(k-means)\n",
    "\n",
    "### 3.13 GMM 实现"
   ]
  },
  {
   "cell_type": "code",
   "execution_count": 5,
   "metadata": {},
   "outputs": [],
   "source": [
    " \n",
    "from sklearn import datasets, mixture\n",
    "X = datasets.load_iris().data[:10]\n",
    "gmm = mixture.GaussianMixture(n_components = 3)\n",
    "gmm.fit(X)\n",
    "clustering = gmm.predict(X)\n"
   ]
  },
  {
   "cell_type": "markdown",
   "metadata": {},
   "source": [
    "### 3.14. GMM 示例与应用\n",
    "\n",
    "**advantages**  \n",
    " * Soft-clustering (sample membership of multiple clusters)\n",
    " * Cluster shape flexibility\n",
    "   a cluster can contain another cluster inside of ti \n",
    " \n",
    "\n",
    "**disadvantages** \n",
    " * Sensitive to initialization values \n",
    " * Possible to converge to local optimum (局部最优)\n",
    " * lead convergence(收敛) slowly)  \n",
    " \n",
    " \n",
    " ### 3.15. 聚类分析过程\n",
    " DARA <<<--->>> feature selection/extraction(特征选择/特征提取)\n",
    "    <<<--->>> clustering algorithm selection&tuning:based on what you need to do and how your data looks \n",
    "    <<<--->>> clustering validation(聚类评价)：use indices(指数)\n",
    "    <<<--->>> results interpretation(聚类结果解释)\n",
    "    \n",
    "### 3.16. 聚类验证\n",
    "**indices**  \n",
    "* External indices :　use for data was originally labelled;score how a clustering method did\n",
    "* Internal indices :  not labelled specifically with unsupervised learning；　\n",
    "* Relative indices :　indicate which of two clustering structures is better in some sense\n",
    "> basically, all internal can server as relative indices  \n",
    "\n",
    "**defined by**\n",
    "* Compactness　：　how close of elements  in the same cluster \n",
    "* Separability　：how far between differernt clusters\n",
    "\n",
    "### 3.17 External indices 外部评价指标\n",
    "例如： Adjusted Rand Index\n",
    "[-1,1]   \n",
    "$$Rand \\; Index = \\frac{a+b} {2n}$$\n",
    "\n",
    "* a: number of pairs in the same cluster C and in the same cluster in K\n",
    "* b: number of pairs in a different cluster C and in a different cluster in K\n",
    "* n: number of samples/points\n",
    "\n",
    "### 3.19 Internal Indices\n",
    "例如：silhouette index (轮廓系数)\n",
    "[-1,1]  \n",
    "$$S_i = \\frac{b_i-a_i}{ max(a_i,b_i)}$$\n",
    "* a: average distance to other samples in the same cluster\n",
    "* b: average distance to samples in the **closet neighboring**  cluster\n",
    "\n",
    "should not use in cluster like  two rings datasets\n",
    "\n"
   ]
  },
  {
   "cell_type": "markdown",
   "metadata": {},
   "source": [
    "<a id = '4'> </a>\n",
    "# [4.特征缩放](#0)"
   ]
  },
  {
   "cell_type": "markdown",
   "metadata": {},
   "source": [
    "feature scaling\n",
    "**避免一个特种覆盖另一种**\n",
    "### 4.7-8\n",
    "$0\\leq X^\\prime \\leq1$\n",
    "$$X^\\prime= \\frac{X-X_{min}}{X_{max} - X_{min}}$$\n",
    "advantage: can expect in the output (预估输出相对稳定)\n",
    "disadvantage: if have outlies in input（输入特征有异常数值，会很棘手）\n",
    "\n",
    "那种算法会受到特种缩放影响：(变量增大，值变大)\n",
    "* SVM : make one twice as big as the other,it counts for twice as much\n",
    "* K-means: aslo distance has exactly the same characterization\n",
    "* Decision Trees:no\n",
    "* Linear tegression: feature A donesn't effect feature B\n"
   ]
  },
  {
   "cell_type": "code",
   "execution_count": 80,
   "metadata": {},
   "outputs": [
    {
     "name": "stdout",
     "output_type": "stream",
     "text": [
      "[0.0, 0.4166666666666667, 1.0]\n"
     ]
    }
   ],
   "source": [
    "def featureScaling(arr):\n",
    "    a = max(arr)\n",
    "    b = min(arr)\n",
    "    list = []\n",
    "    for i in range(len(arr)):\n",
    "        x =((arr[i]-b)/(a-b))\n",
    "        list.append(x)\n",
    "    return list\n",
    "data = [115, 140, 175]\n",
    "print (featureScaling(data))\n"
   ]
  },
  {
   "cell_type": "markdown",
   "metadata": {},
   "source": [
    "<a id = '5'></a>\n",
    "# [5 PCA（主成分分析)](#0)\n"
   ]
  },
  {
   "cell_type": "markdown",
   "metadata": {},
   "source": [
    "Principle COmponent Analysis\n",
    "### 5.1-5 数据维度\n",
    "\n",
    "### 5.6. 用于数据转换的PCA\n",
    "> PCA finds a new coordinate system that's obtained from the old one by translation and rotation only.（仅通过转化和轮换获取新坐标）\n",
    "* moves the x-axis into the priccipal axis of variation(most variation relative to all the data points(x轴变化大))\n",
    "* aligns the x axis with the principal axis of varitation*\n",
    "\n",
    "### 5.9\n",
    "\n",
    "when we write vectors in PCA,lowest output vectors is normalized to one \n",
    "\n",
    "<img src = \"./img/PCA_normalized.png\" width =\"88%\">\n",
    "### 5.10-11. center and axis \n",
    "**find**\n",
    "1.the center of the data \n",
    "2.principle axis of variaton(主变量轴)\n",
    "* PCA also returns an importance value,a spread value(散布值) of this axis.\n",
    ">  spread value tends to be very large for the very  first axis fo variation and much smaller for the second axis fo variation if the spread is small.\n",
    "orthogonality vectors\n",
    "\n",
    "### 5.12 那些数据可以用于PCA ？？？？\n",
    "\n",
    "### 5.13.\n",
    "captures 捕获更多数据的，更占优势，轴方向数据更多\n",
    "### 5.14 . 可测量的特征与潜在的特征练习\n",
    "* decision tree classifier ：决策结构，每个决策都会导致一系列后果和附加决策\n",
    "* SVC ： 用于分类\n",
    "* linear regerssion : 用于预测数据\n"
   ]
  },
  {
   "cell_type": "code",
   "execution_count": null,
   "metadata": {},
   "outputs": [],
   "source": []
  }
 ],
 "metadata": {
  "kernelspec": {
   "display_name": "Python 3",
   "language": "python",
   "name": "python3"
  },
  "language_info": {
   "codemirror_mode": {
    "name": "ipython",
    "version": 3
   },
   "file_extension": ".py",
   "mimetype": "text/x-python",
   "name": "python",
   "nbconvert_exporter": "python",
   "pygments_lexer": "ipython3",
   "version": "3.6.4"
  }
 },
 "nbformat": 4,
 "nbformat_minor": 2
}
