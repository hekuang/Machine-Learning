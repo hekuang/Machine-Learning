{
 "cells": [
  {
   "cell_type": "code",
   "execution_count": 16,
   "metadata": {
    "scrolled": true
   },
   "outputs": [
    {
     "data": {
      "application/javascript": [
       "IPython.notebook.set_autosave_interval(10000)"
      ]
     },
     "metadata": {},
     "output_type": "display_data"
    },
    {
     "name": "stdout",
     "output_type": "stream",
     "text": [
      "Autosaving every 10 seconds\n"
     ]
    }
   ],
   "source": [
    "%autosave 10"
   ]
  },
  {
   "cell_type": "markdown",
   "metadata": {},
   "source": [
    "<a id='0'></a>\n",
    "### 　　目　录\n",
    "* [课程1.聚类](#1)\n",
    "\n",
    "\n",
    "\n",
    "* [课程2： 层次聚类与密度聚类](#2)　　\n",
    "　\n",
    " \n",
    " \n",
    "* [课程 3：卷积神经网络](#3)　　||\n",
    "\n",
    "\n",
    " \n",
    "* [课程 4：癌症检测深度学习（Sebastian Thrun）](#4)"
   ]
  },
  {
   "cell_type": "markdown",
   "metadata": {},
   "source": [
    "<a id='1'></a>\n",
    "# [1.聚类](#0)"
   ]
  },
  {
   "cell_type": "markdown",
   "metadata": {},
   "source": [
    "### 1.2.\n",
    "> dataset without labels all the data points are of same class\n",
    "* clusters in the data 数据的聚类（簇）\n",
    "* dimensionality reducetion 降维\n",
    "\n",
    "### 1.4\n",
    "> 聚类算法如：K-Means   \n",
    "\n",
    "重复执行1.2\n",
    "1.assign 分配\n",
    "2.optimize 优化 降低距离中心总的二次距离b\n"
   ]
  },
  {
   "cell_type": "markdown",
   "metadata": {},
   "source": [
    "<a id='2'></a>\n",
    "# [2. 层次聚类与密度聚类](#0)"
   ]
  },
  {
   "cell_type": "markdown",
   "metadata": {},
   "source": [
    "### 2.1.\n",
    "<img src = './img/K-means情况.png' width = '77%'>\n",
    "\n",
    "\n",
    "### 2.2.其他聚类方法\n",
    "* Hierarchical Clustering 层次聚类\n",
    "* Density_based Clustering 密度聚类 (well on the two-cresect dataset(双月牙形))\n",
    "   * 关注其中的DBSCAN(Density_based Spatial Clustering of Applications with Noise)\n",
    "<img src = \"./img/层次聚类and密度聚类.png\" width =\"88%\">\n",
    "\n",
    "### 2.3.层次聚类：单链接聚类法\n",
    " \n",
    "dendgrogram 系统树图\n",
    "<img src = \"./img/linkage_dendrogram.png\"    width=\"66%\">\n",
    "* single link clustering \n",
    "    * assume each point is a cluster\n",
    "    * calculate the distances and choose the smallest distance between two clusters. group those two points into a cluster\n",
    "**关注类的最短距离**    \n",
    "##### can give eithet one cluster or the number of our smaples     \n",
    "<img src = \"./img/single_link_clustering.png \" width = \"77%\">\n",
    "\n",
    "\n",
    "### 2.4. 检测单链接聚类\n",
    "\n",
    "\n",
    "<img src =\"./img/k_maeans_vs_single_linkA_clustering.png\"  width=\"77%\">\n",
    "\n",
    "### 2.5. 三种不同的层次聚类法\n",
    "> part of agglomerative clustering(凝聚聚类) component of Scikit-learn\n",
    "层次聚类包括凝聚聚类\n",
    "\n",
    "\n",
    "#### 凝聚聚类的三种方法\n",
    "> 没有单链接法\n",
    "\n",
    "*  全连接法 \n",
    " \n",
    "**区别：关注类与类之间点的远距离中的最小值**\n",
    "\n",
    "* 组平均法（average link )\n",
    "> 计算类之间点距离的平均值\n",
    "\n",
    "*  Ward's metod(离差平方和法)\n",
    "取类之间点的中间点，计算此点到所有点的距离平方和，然后减去类中的变量（类中取中点，计算与类中点的平方和）。\n",
    "最后将两类间最小的，聚类。\n",
    "<img src = \"./img/Ward's_method.png\" width='77%'>\n",
    "\n",
    "### 2.6. 层次聚类法的具体使用\n"
   ]
  },
  {
   "cell_type": "code",
   "execution_count": null,
   "metadata": {},
   "outputs": [],
   "source": [
    "from sklearn import datasets, cluster\n",
    "# Load dataset\n",
    "X = datasets.load_iris().data[:10]\n",
    "\n",
    "# linkage : {“ward”, “complete”, “average”}, optional, default: “ward”\n",
    "# n_clusters : int, default=2nThe number of clusters to find.\n",
    "clust = cluster.AgglomerativeClustering(n_clusters = 3, linkage = 'ward')\n",
    "\n",
    "labels = clust.fit_predict(X)"
   ]
  },
  {
   "cell_type": "markdown",
   "metadata": {},
   "source": [
    "如果要画出层次树（系统树）\n",
    "hierarchical tree shapes called dendrograms\n"
   ]
  },
  {
   "cell_type": "code",
   "execution_count": 15,
   "metadata": {
    "scrolled": true
   },
   "outputs": [
    {
     "data": {
      "image/png": "[encoded data removed]",
      "text/plain": [
       "<matplotlib.figure.Figure at 0x1715eab1668>"
      ]
     },
     "metadata": {},
     "output_type": "display_data"
    }
   ],
   "source": [
    "from scipy.cluster.hierarchy import dendrogram, ward, single\n",
    "from sklearn import datasets\n",
    "import matplotlib.pyplot as plt\n",
    "\n",
    "X = datasets.load_iris().data[:10]\n",
    "# 用ward做聚类，传回关系矩阵\n",
    "linkage_matrix = ward(X)\n",
    "dendrogram(linkage_matrix)\n",
    "plt.show()"
   ]
  },
  {
   "cell_type": "code",
   "execution_count": null,
   "metadata": {},
   "outputs": [],
   "source": []
  },
  {
   "cell_type": "code",
   "execution_count": null,
   "metadata": {},
   "outputs": [],
   "source": [
    " "
   ]
  }
 ],
 "metadata": {
  "kernelspec": {
   "display_name": "Python 3",
   "language": "python",
   "name": "python3"
  },
  "language_info": {
   "codemirror_mode": {
    "name": "ipython",
    "version": 3
   },
   "file_extension": ".py",
   "mimetype": "text/x-python",
   "name": "python",
   "nbconvert_exporter": "python",
   "pygments_lexer": "ipython3",
   "version": "3.6.4"
  }
 },
 "nbformat": 4,
 "nbformat_minor": 2
}
